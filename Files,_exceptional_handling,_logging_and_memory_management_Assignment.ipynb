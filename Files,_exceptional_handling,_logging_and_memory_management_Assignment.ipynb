{
  "nbformat": 4,
  "nbformat_minor": 0,
  "metadata": {
    "colab": {
      "provenance": []
    },
    "kernelspec": {
      "name": "python3",
      "display_name": "Python 3"
    },
    "language_info": {
      "name": "python"
    }
  },
  "cells": [
    {
      "cell_type": "markdown",
      "source": [
        "# Files, exceptional handling, logging and memory management Assignment\n",
        "\n",
        "1. What is the difference between interpreted and compiled languages ?\n",
        "\n",
        "- Interpreted vs. Compiled Languages: Interpreted languages execute code line-by-line at runtime (e.g., Python), while compiled languages are transformed into machine code before execution (e.g., C++).\n",
        "\n",
        "2.  What is exception handling in Python ?\n",
        "\n",
        "- Exception Handling in Python: It is the process of responding to exceptions (errors) during program execution using try, except, finally, and else blocks.\n",
        "\n",
        "3.  What is the purpose of the finally block in exception handling ?\n",
        "\n",
        "- Purpose of finally Block: It defines code that will always run after try, regardless of whether an exception occurred, often used for cleanup.\n",
        "\n",
        "4.  What is logging in Python ?\n",
        "\n",
        "- Logging in Python: It refers to tracking events that happen during program execution using the logging module instead of print() statements.\n",
        "\n",
        "5.  What is the significance of the __del__ method in Python ?\n",
        "\n",
        "- Significance of __del__ Method: It's a destructor method called when an object is about to be destroyed, used for cleanup.\n",
        "\n",
        "6.  What is the difference between import and from ... import in Python ?\n",
        "\n",
        "- import vs. from ... import: import imports the entire module, while from ... import brings specific attributes/functions into the namespace.\n",
        "\n",
        "7. How can you handle multiple exceptions in Python ?\n",
        "\n",
        "- Handling Multiple Exceptions: Use multiple except blocks or tuple syntax:\n",
        "\n",
        "8.  What is the purpose of the with statement when handling files in Python ?\n",
        "\n",
        "- Purpose of with Statement: It ensures proper acquisition and release of resources, automatically closing the file after block execution.\n",
        "\n",
        "9.  What is the difference between multithreading and multiprocessing ?\n",
        "\n",
        "- Multithreading vs. Multiprocessing: Multithreading runs threads within the same process (shared memory), while multiprocessing uses separate processes (independent memory), better for CPU-bound tasks.\n",
        "\n",
        "10.  What are the advantages of using logging in a program ?\n",
        "\n",
        "-  Memory Management in Python: Managed by Python's memory manager and garbage collector; includes allocation, referencing, and deallocation.\n",
        "\n",
        "11. What is memory management in Python ?\n",
        "\n",
        "- Memory Management in Python: Managed by Python's memory manager and garbage collector; includes allocation, referencing, and deallocation.\n",
        "\n",
        "12. What are the basic steps involved in exception handling in Python ?\n",
        "\n",
        "- Steps in Exception Handling:\n",
        "\n",
        "- try: Code that may raise exceptions\n",
        "\n",
        "- except: Handle exceptions\n",
        "\n",
        "- else: Runs if no exceptions occur\n",
        "\n",
        "- finally: Runs regardless of outcome .\n",
        "\n",
        "13.  Why is memory management important in Python ?\n",
        "\n",
        "- Importance of Memory Management: Prevents memory leaks and ensures efficient memory use for performance and stability.\n",
        "\n",
        "14.  What is the role of try and except in exception handling ?\n",
        "\n",
        "- Role of try and except: try lets you test a block for errors; except handles the error to avoid crashing the program.\n",
        "\n",
        "15.  How does Python's garbage collection system work ?\n",
        "\n",
        "- Garbage Collection in Python: Uses reference counting and cyclic garbage collector to reclaim unused memory automatically.\n",
        "\n",
        "16.  What is the purpose of the else block in exception handling ?\n",
        "\n",
        "- Purpose of else in Exception Handling: Runs if the try block doesn't raise any exceptions, keeping logic clear.\n",
        "\n",
        "17.  What are the common logging levels in Python ?\n",
        "\n",
        "- Common Logging Levels:\n",
        "\n",
        "- DEBUG\n",
        "\n",
        "- INFO\n",
        "\n",
        "- WARNING\n",
        "\n",
        "- ERROR\n",
        "\n",
        "- CRITICAL\n",
        "\n",
        "18. What is the difference between os.fork() and multiprocessing in Python ?\n",
        "\n",
        "- os.fork() vs. multiprocessing: os.fork() is Unix-specific and low-level; multiprocessing is cross-platform and high-level, managing processes easily.\n",
        "\n",
        "19.  What is the importance of closing a file in Python ?\n",
        "\n",
        "- Importance of Closing a File: Releases system resources and ensures all data is written (especially buffered data).\n",
        "\n",
        "20.  What is the difference between file.read() and file.readline() in Python?\n",
        "\n",
        "- file.read() vs. file.readline():\n",
        "\n",
        "- read(): Reads entire file content\n",
        "\n",
        "- readline(): Reads one line at a time\n",
        "\n",
        "21.  What is the logging module in Python used for?\n",
        "\n",
        "- logging Module Purpose: Provides a flexible framework for emitting log messages from Python programs.\n",
        "\n",
        "22. What is the os module in Python used for in file handling?\n",
        "\n",
        "- os Module Use in File Handling: Offers functions for interacting with the file system (e.g., create, delete, rename, navigate).\n",
        "\n",
        "23.  What are the challenges associated with memory management in Python ?\n",
        "\n",
        "- Memory Management Challenges: Include circular references, memory leaks, and managing large data structures efficiently.\n",
        "\n",
        "24.  How do you raise an exception manually in Python?\n",
        "\n",
        "- Raising Exception Manually: Use raise keyword:"
      ],
      "metadata": {
        "id": "Bu45aymYfatw"
      }
    },
    {
      "cell_type": "code",
      "source": [
        "raise ValueError(\"Invalid input\")\n"
      ],
      "metadata": {
        "id": "QH8LqQ4NmVF7"
      },
      "execution_count": null,
      "outputs": []
    },
    {
      "cell_type": "markdown",
      "source": [
        "25. Why is it important to use multithreading in certain applications ?\n",
        "\n",
        "- Importance of Multithreading: Improves performance in I/O-bound applications (e.g., web scraping, network tasks) by allowing concurrent operations.\n",
        "\n",
        "\n",
        "# Practical Questions"
      ],
      "metadata": {
        "id": "fBPpZh4AmXqX"
      }
    },
    {
      "cell_type": "code",
      "source": [
        "# 1.  How can you open a file for writing in Python and write a string to it ?\n",
        "\n",
        "with open(\"output.txt\", \"w\") as file:\n",
        "    file.write(\"Hello, World!\")\n"
      ],
      "metadata": {
        "id": "AM700hINnA91"
      },
      "execution_count": 9,
      "outputs": []
    },
    {
      "cell_type": "code",
      "source": [
        "# 2. Write a Python program to read the contents of a file and print each line.\n",
        "\n",
        "with open(\"input.txt\", \"r\") as file:\n",
        "    for line in file:\n",
        "        print(line.strip())\n"
      ],
      "metadata": {
        "id": "gKHPjrRankvF"
      },
      "execution_count": null,
      "outputs": []
    },
    {
      "cell_type": "code",
      "source": [
        "# 3.  How would you handle a case where the file doesn't exist while trying to open it for reading.\n",
        "\n",
        "try:\n",
        "    with open(\"missing.txt\", \"r\") as file:\n",
        "        print(file.read())\n",
        "except FileNotFoundError:\n",
        "    print(\"File does not exist.\")\n"
      ],
      "metadata": {
        "colab": {
          "base_uri": "https://localhost:8080/"
        },
        "id": "7DFVuyPhnwAP",
        "outputId": "a0f21523-1093-4613-f4ee-256e3d6c4cb9"
      },
      "execution_count": 11,
      "outputs": [
        {
          "output_type": "stream",
          "name": "stdout",
          "text": [
            "File does not exist.\n"
          ]
        }
      ]
    },
    {
      "cell_type": "code",
      "source": [
        "# 4.  Write a Python script that reads from one file and writes its content to another file.\n",
        "\n",
        "with open(\"source.txt\", \"r\") as src, open(\"destination.txt\", \"w\") as dest:\n",
        "    for line in src:\n",
        "        dest.write(line)\n"
      ],
      "metadata": {
        "id": "B2G_0bKtoZkK"
      },
      "execution_count": null,
      "outputs": []
    },
    {
      "cell_type": "code",
      "source": [
        "# 5.  How would you catch and handle division by zero error in Python ?\n",
        "\n",
        "try:\n",
        "    result = 10 / 0\n",
        "except ZeroDivisionError:\n",
        "    print(\"Cannot divide by zero.\")\n"
      ],
      "metadata": {
        "colab": {
          "base_uri": "https://localhost:8080/"
        },
        "id": "OqzdmCvRoiHg",
        "outputId": "0c9e139a-36ad-4778-bfd7-cb28b91508b5"
      },
      "execution_count": 13,
      "outputs": [
        {
          "output_type": "stream",
          "name": "stdout",
          "text": [
            "Cannot divide by zero.\n"
          ]
        }
      ]
    },
    {
      "cell_type": "code",
      "source": [
        "# 6.  Write a Python program that logs an error message to a log file when a division by zero exception occurs.\n",
        "\n",
        "import logging\n",
        "\n",
        "logging.basicConfig(filename=\"app.log\", level=logging.ERROR)\n",
        "\n",
        "try:\n",
        "    result = 10 / 0\n",
        "except ZeroDivisionError as e:\n",
        "    logging.error(\"Division by zero occurred: %s\", e)\n"
      ],
      "metadata": {
        "colab": {
          "base_uri": "https://localhost:8080/"
        },
        "id": "A_G_mvm8oxBK",
        "outputId": "f0e2d882-4c15-41b6-d451-c849233381a0"
      },
      "execution_count": 14,
      "outputs": [
        {
          "output_type": "stream",
          "name": "stderr",
          "text": [
            "ERROR:root:Division by zero occurred: division by zero\n"
          ]
        }
      ]
    },
    {
      "cell_type": "code",
      "source": [
        "# 7.  How do you log information at different levels (INFO, ERROR, WARNING) in Python using the logging module ?\n",
        "\n",
        "import logging\n",
        "\n",
        "logging.basicConfig(filename=\"app.log\", level=logging.DEBUG)\n",
        "logging.info(\"This is an info message.\")\n",
        "logging.warning(\"This is a warning.\")\n",
        "logging.error(\"This is an error.\")\n"
      ],
      "metadata": {
        "colab": {
          "base_uri": "https://localhost:8080/"
        },
        "id": "iyvSh-rhpAu5",
        "outputId": "fc7abd9c-f65a-40eb-f7a9-01885e1c8e84"
      },
      "execution_count": 15,
      "outputs": [
        {
          "output_type": "stream",
          "name": "stderr",
          "text": [
            "WARNING:root:This is a warning.\n",
            "ERROR:root:This is an error.\n"
          ]
        }
      ]
    },
    {
      "cell_type": "code",
      "source": [
        "# 8. Write a program to handle a file opening error using exception handling ?\n",
        "\n",
        "try:\n",
        "    with open(\"nonexistent.txt\", \"r\") as file:\n",
        "        content = file.read()\n",
        "except FileNotFoundError:\n",
        "    print(\"File could not be opened.\")\n"
      ],
      "metadata": {
        "colab": {
          "base_uri": "https://localhost:8080/"
        },
        "id": "uX-sKtlFphda",
        "outputId": "f7999814-f3c2-4497-88e7-277e23a51403"
      },
      "execution_count": 16,
      "outputs": [
        {
          "output_type": "stream",
          "name": "stdout",
          "text": [
            "File could not be opened.\n"
          ]
        }
      ]
    },
    {
      "cell_type": "code",
      "source": [
        "# 9. How can you read a file line by line and store its content in a list in Python ?.\n",
        "\n",
        "with open(\"data.txt\", \"r\") as file:\n",
        "    lines = [line.strip() for line in file]\n"
      ],
      "metadata": {
        "id": "Hdi3Pbh9qI7g"
      },
      "execution_count": null,
      "outputs": []
    },
    {
      "cell_type": "code",
      "source": [
        "# 10. How can you append data to an existing file in Python ?\n",
        "\n",
        "with open(\"log.txt\", \"a\") as file:\n",
        "    file.write(\"New entry\\n\")\n"
      ],
      "metadata": {
        "id": "Fqi7GliyqOVk"
      },
      "execution_count": 19,
      "outputs": []
    },
    {
      "cell_type": "code",
      "source": [
        "# 11. Write a Python program that uses a try-except block to handle an error when attempting to access a dictionary key that doesn't exist.\n",
        "\n",
        "data = {\"name\": \"Alice\"}\n",
        "try:\n",
        "    print(data[\"age\"])\n",
        "except KeyError:\n",
        "    print(\"Key does not exist.\")\n"
      ],
      "metadata": {
        "colab": {
          "base_uri": "https://localhost:8080/"
        },
        "id": "VfPBnWWLq8Hg",
        "outputId": "f64bc210-0473-4d78-f38e-4cdb1bd93780"
      },
      "execution_count": 20,
      "outputs": [
        {
          "output_type": "stream",
          "name": "stdout",
          "text": [
            "Key does not exist.\n"
          ]
        }
      ]
    },
    {
      "cell_type": "code",
      "source": [
        "# 12. Write a program that demonstrates using multiple except blocks to handle different types of exceptions.\n",
        "\n",
        "try:\n",
        "    lst = [1]\n",
        "    print(lst[2])\n",
        "    d = {}\n",
        "    print(d[\"missing\"])\n",
        "except IndexError:\n",
        "    print(\"Index out of range.\")\n",
        "except KeyError:\n",
        "    print(\"Key not found.\")\n"
      ],
      "metadata": {
        "colab": {
          "base_uri": "https://localhost:8080/"
        },
        "id": "1qyOffw3rcaa",
        "outputId": "20d73c83-9983-495f-f804-742182108f24"
      },
      "execution_count": 21,
      "outputs": [
        {
          "output_type": "stream",
          "name": "stdout",
          "text": [
            "Index out of range.\n"
          ]
        }
      ]
    },
    {
      "cell_type": "code",
      "source": [
        "# 13.  How would you check if a file exists before attempting to read it in Python ?\n",
        "\n",
        "import os\n",
        "\n",
        "if os.path.exists(\"file.txt\"):\n",
        "    with open(\"file.txt\") as file:\n",
        "        print(file.read())\n",
        "else:\n",
        "    print(\"File not found.\")\n"
      ],
      "metadata": {
        "colab": {
          "base_uri": "https://localhost:8080/"
        },
        "id": "USK-jIgHrzZR",
        "outputId": "a0706602-1f37-4bee-cdbf-178f38bc8d19"
      },
      "execution_count": 22,
      "outputs": [
        {
          "output_type": "stream",
          "name": "stdout",
          "text": [
            "File not found.\n"
          ]
        }
      ]
    },
    {
      "cell_type": "code",
      "source": [
        "# 14. Write a program that uses the logging module to log both informational and error messages .\n",
        "\n",
        "import logging\n",
        "\n",
        "logging.basicConfig(filename=\"logfile.log\", level=logging.INFO)\n",
        "logging.info(\"Program started\")\n",
        "try:\n",
        "    x = 1 / 0\n",
        "except ZeroDivisionError:\n",
        "    logging.error(\"Tried to divide by zero.\")\n"
      ],
      "metadata": {
        "colab": {
          "base_uri": "https://localhost:8080/"
        },
        "id": "PRCkDfdBr_JP",
        "outputId": "17a0bc1d-fec4-4987-f5dc-eed84cd4cec9"
      },
      "execution_count": 23,
      "outputs": [
        {
          "output_type": "stream",
          "name": "stderr",
          "text": [
            "ERROR:root:Tried to divide by zero.\n"
          ]
        }
      ]
    },
    {
      "cell_type": "code",
      "source": [
        "# 15.  Write a Python program that prints the content of a file and handles the case when the file is empty .\n",
        "\n",
        "with open(\"file.txt\", \"r\") as file:\n",
        "    content = file.read()\n",
        "    if content:\n",
        "        print(content)\n",
        "    else:\n",
        "        print(\"The file is empty.\")\n"
      ],
      "metadata": {
        "id": "Y1nJApMhsWC9"
      },
      "execution_count": null,
      "outputs": []
    },
    {
      "cell_type": "code",
      "source": [
        "# 16.  Demonstrate how to use memory profiling to check the memory usage of a small program.\n",
        "\n",
        "from memory_profiler import profile\n",
        "\n",
        "@profile\n",
        "def my_function():\n",
        "    a = [i for i in range(10000)]\n",
        "    return sum(a)\n",
        "\n",
        "my_function()\n"
      ],
      "metadata": {
        "id": "Sy-5uz0ss99X"
      },
      "execution_count": null,
      "outputs": []
    },
    {
      "cell_type": "code",
      "source": [
        "# 17.  Write a Python program to create and write a list of numbers to a file, one number per line .\n",
        "\n",
        "numbers = list(range(1, 11))\n",
        "with open(\"numbers.txt\", \"w\") as file:\n",
        "    for num in numbers:\n",
        "        file.write(f\"{num}\\n\")\n"
      ],
      "metadata": {
        "id": "EQ27BsR_tJG4"
      },
      "execution_count": 26,
      "outputs": []
    },
    {
      "cell_type": "code",
      "source": [
        "# 18.  How would you implement a basic logging setup that logs to a file with rotation after 1MB ?\n",
        "\n",
        "import logging\n",
        "from logging.handlers import RotatingFileHandler\n",
        "\n",
        "handler = RotatingFileHandler(\"app.log\", maxBytes=1048576, backupCount=3)\n",
        "logging.basicConfig(handlers=[handler], level=logging.INFO)\n",
        "logging.info(\"This is a log message.\")\n"
      ],
      "metadata": {
        "id": "WaMROKRktgEK"
      },
      "execution_count": 27,
      "outputs": []
    },
    {
      "cell_type": "code",
      "source": [
        "# 19.  Write a program that handles both IndexError and KeyError using a try-except block .\n",
        "\n",
        "try:\n",
        "    lst = [1, 2]\n",
        "    print(lst[3])\n",
        "    d = {\"a\": 1}\n",
        "    print(d[\"b\"])\n",
        "except IndexError:\n",
        "    print(\"Index out of range.\")\n",
        "except KeyError:\n",
        "    print(\"Key not found.\")\n"
      ],
      "metadata": {
        "colab": {
          "base_uri": "https://localhost:8080/"
        },
        "id": "xoASbun9tvwn",
        "outputId": "aaf963a3-a7f4-4ff6-8124-8e634e2da91a"
      },
      "execution_count": 28,
      "outputs": [
        {
          "output_type": "stream",
          "name": "stdout",
          "text": [
            "Index out of range.\n"
          ]
        }
      ]
    },
    {
      "cell_type": "code",
      "source": [
        "# 20. How would you open a file and read its contents using a context manager in Python ?\n",
        "\n",
        "with open(\"file.txt\", \"r\") as file:\n",
        "    content = file.read()\n"
      ],
      "metadata": {
        "id": "gHYVZ9z-uXto"
      },
      "execution_count": null,
      "outputs": []
    },
    {
      "cell_type": "code",
      "source": [
        "# 21.  Write a Python program that reads a file and prints the number of occurrences of a specific word.\n",
        "\n",
        "word = \"python\"\n",
        "count = 0\n",
        "with open(\"file.txt\", \"r\") as file:\n",
        "    for line in file:\n",
        "        count += line.lower().split().count(word)\n",
        "print(f\"The word '{word}' appears {count} times.\")\n"
      ],
      "metadata": {
        "id": "iPvFL08kuuD0"
      },
      "execution_count": null,
      "outputs": []
    },
    {
      "cell_type": "code",
      "source": [
        "# 22.  How can you check if a file is empty before attempting to read its contents?\n",
        "\"\"\"\n",
        "import os\n",
        "\n",
        "if os.path.getsize(\"file.txt\") == 0:\n",
        "    print(\"File is empty.\")\n",
        "else:\n",
        "    with open(\"file.txt\", \"r\") as file:\n",
        "        print(file.read())\n",
        "\"\"\""
      ],
      "metadata": {
        "colab": {
          "base_uri": "https://localhost:8080/",
          "height": 36
        },
        "id": "YkbOMg_9u2DB",
        "outputId": "780ff694-e945-4527-b929-d309393873ac"
      },
      "execution_count": 33,
      "outputs": [
        {
          "output_type": "execute_result",
          "data": {
            "text/plain": [
              "'\\nimport os\\n\\nif os.path.getsize(\"file.txt\") == 0:\\n    print(\"File is empty.\")\\nelse:\\n    with open(\"file.txt\", \"r\") as file:\\n        print(file.read())\\n'"
            ],
            "application/vnd.google.colaboratory.intrinsic+json": {
              "type": "string"
            }
          },
          "metadata": {},
          "execution_count": 33
        }
      ]
    },
    {
      "cell_type": "code",
      "source": [
        "# 23.  Write a Python program that writes to a log file when an error occurs during file handling .\n",
        "\n",
        "import logging\n",
        "\n",
        "logging.basicConfig(filename=\"error.log\", level=logging.ERROR)\n",
        "\n",
        "try:\n",
        "    with open(\"nonexistent.txt\", \"r\") as file:\n",
        "        print(file.read())\n",
        "except FileNotFoundError as e:\n",
        "    logging.error(\"File handling error: %s\", e)\n"
      ],
      "metadata": {
        "colab": {
          "base_uri": "https://localhost:8080/"
        },
        "id": "eSNyfW3gvNNn",
        "outputId": "bc104fd0-a12b-4b30-f414-3c2e2592caaa"
      },
      "execution_count": 34,
      "outputs": [
        {
          "output_type": "stream",
          "name": "stderr",
          "text": [
            "ERROR:root:File handling error: [Errno 2] No such file or directory: 'nonexistent.txt'\n"
          ]
        }
      ]
    }
  ]
}